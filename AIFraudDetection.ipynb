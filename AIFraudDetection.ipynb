{
  "nbformat": 4,
  "nbformat_minor": 0,
  "metadata": {
    "colab": {
      "provenance": [],
      "authorship_tag": "ABX9TyPQv8pm9JvCvUPquJW3ayN5",
      "include_colab_link": true
    },
    "kernelspec": {
      "name": "python3",
      "display_name": "Python 3"
    },
    "language_info": {
      "name": "python"
    }
  },
  "cells": [
    {
      "cell_type": "markdown",
      "metadata": {
        "id": "view-in-github",
        "colab_type": "text"
      },
      "source": [
        "<a href=\"https://colab.research.google.com/github/hackathonjm/AI_fraud_detection/blob/main/AIFraudDetection.ipynb\" target=\"_parent\"><img src=\"https://colab.research.google.com/assets/colab-badge.svg\" alt=\"Open In Colab\"/></a>"
      ]
    },
    {
      "cell_type": "code",
      "execution_count": 16,
      "metadata": {
        "id": "ygo2rGmO4tWu"
      },
      "outputs": [],
      "source": [
        "# Step 1: Import Libraries\n",
        "import pandas as pd\n",
        "import numpy as np\n",
        "import matplotlib.pyplot as plt\n",
        "import seaborn as sns\n",
        "from sklearn.model_selection import train_test_split\n",
        "from sklearn.preprocessing import LabelEncoder, StandardScaler\n",
        "from sklearn.metrics import classification_report, confusion_matrix, roc_auc_score, accuracy_score\n",
        "from sklearn.ensemble import RandomForestClassifier, GradientBoostingClassifier, AdaBoostClassifier\n",
        "from sklearn.linear_model import LogisticRegression\n",
        "from sklearn.naive_bayes import GaussianNB\n",
        "from sklearn.neighbors import KNeighborsClassifier\n",
        "from sklearn.tree import DecisionTreeClassifier\n",
        "from sklearn.svm import SVC\n",
        "from sklearn.neural_network import MLPClassifier\n",
        "import joblib\n",
        "\n",
        "# Enable plots in Jupyter\n",
        "%matplotlib inline\n"
      ]
    },
    {
      "cell_type": "code",
      "source": [
        "file1 = pd.read_csv(\"Auto_Insurance_Fraud_Claims_File01.csv\")\n",
        "file2 = pd.read_csv(\"Auto_Insurance_Fraud_Claims_File02.csv\")\n",
        "test_data = pd.read_csv(\"Auto_Insurance_Fraud_Claims_File03.csv\")\n",
        "submission_template = pd.read_csv(\"Auto_Insurance_Fraud_Claims_Results_Submission.csv\")\n"
      ],
      "metadata": {
        "id": "pakwbXOy5CHq"
      },
      "execution_count": 7,
      "outputs": []
    },
    {
      "cell_type": "code",
      "source": [
        "train_data = pd.concat([file1, file2], ignore_index=True)\n"
      ],
      "metadata": {
        "id": "o2D8WqA-5dr-"
      },
      "execution_count": 8,
      "outputs": []
    },
    {
      "cell_type": "code",
      "source": [
        "drop_cols = ['Claim_ID', 'Check_Point', 'Vehicle_Registration', 'DL_Expiry_Date',\n",
        "             'Policy_Start_Date', 'Policy_Expiry_Date', 'Accident_Date', 'Claims_Date', 'Bind_Date1']\n",
        "train_data.drop(columns=drop_cols, inplace=True)\n",
        "test_ids = test_data['Claim_ID']\n",
        "test_data.drop(columns=drop_cols, inplace=True)\n"
      ],
      "metadata": {
        "id": "gmIVzu6u8Y-a"
      },
      "execution_count": 9,
      "outputs": []
    },
    {
      "cell_type": "code",
      "source": [
        "# Step 6: Find and Handle Missing Values\n",
        "print(\"Missing values before filling:\")\n",
        "print(combined.isnull().sum())\n",
        "combined.fillna('Missing', inplace=True)\n",
        "print(\"\\nMissing values after filling:\")\n",
        "print(combined.isnull().sum())\n",
        "\n"
      ],
      "metadata": {
        "colab": {
          "base_uri": "https://localhost:8080/"
        },
        "id": "n5etPubS8e_d",
        "outputId": "14605bc9-5a70-43e4-ac75-8615f46e035c"
      },
      "execution_count": 17,
      "outputs": [
        {
          "output_type": "stream",
          "name": "stdout",
          "text": [
            "Missing values before filling:\n",
            "Customer_Life_Value1        0\n",
            "Age_Insured                 0\n",
            "Policy_Num                  0\n",
            "Policy_State                0\n",
            "Policy_BI                   0\n",
            "Policy_Ded                  0\n",
            "Policy_Premium              0\n",
            "Umbrella_Limit              0\n",
            "Insured_Zip                 0\n",
            "Gender                      0\n",
            "Education                   0\n",
            "Occupation                  0\n",
            "Hobbies                     0\n",
            "Insured_Relationship        0\n",
            "Capital_Gains               0\n",
            "Capital_Loss                0\n",
            "Garage_Location             0\n",
            "Accident_Type               0\n",
            "Collision_Type              0\n",
            "Accident_Severity           0\n",
            "authorities_contacted       0\n",
            "Acccident_State             0\n",
            "Acccident_City              0\n",
            "Accident_Location           0\n",
            "Accident_Hour               0\n",
            "Num_of_Vehicles_Involved    0\n",
            "Property_Damage             0\n",
            "Bodily_Injuries             0\n",
            "Witnesses                   0\n",
            "Police_Report               0\n",
            "Auto_Make                   0\n",
            "Auto_Model                  0\n",
            "Auto_Year                   0\n",
            "Vehicle_Color               0\n",
            "Vehicle_Cost                0\n",
            "Annual_Mileage              0\n",
            "DiffIN_Mileage              0\n",
            "Low_Mileage_Discount        0\n",
            "Commute_Discount            0\n",
            "Total_Claim                 0\n",
            "Injury_Claim                0\n",
            "Property_Claim              0\n",
            "Vehicle_Claim               0\n",
            "dtype: int64\n",
            "\n",
            "Missing values after filling:\n",
            "Customer_Life_Value1        0\n",
            "Age_Insured                 0\n",
            "Policy_Num                  0\n",
            "Policy_State                0\n",
            "Policy_BI                   0\n",
            "Policy_Ded                  0\n",
            "Policy_Premium              0\n",
            "Umbrella_Limit              0\n",
            "Insured_Zip                 0\n",
            "Gender                      0\n",
            "Education                   0\n",
            "Occupation                  0\n",
            "Hobbies                     0\n",
            "Insured_Relationship        0\n",
            "Capital_Gains               0\n",
            "Capital_Loss                0\n",
            "Garage_Location             0\n",
            "Accident_Type               0\n",
            "Collision_Type              0\n",
            "Accident_Severity           0\n",
            "authorities_contacted       0\n",
            "Acccident_State             0\n",
            "Acccident_City              0\n",
            "Accident_Location           0\n",
            "Accident_Hour               0\n",
            "Num_of_Vehicles_Involved    0\n",
            "Property_Damage             0\n",
            "Bodily_Injuries             0\n",
            "Witnesses                   0\n",
            "Police_Report               0\n",
            "Auto_Make                   0\n",
            "Auto_Model                  0\n",
            "Auto_Year                   0\n",
            "Vehicle_Color               0\n",
            "Vehicle_Cost                0\n",
            "Annual_Mileage              0\n",
            "DiffIN_Mileage              0\n",
            "Low_Mileage_Discount        0\n",
            "Commute_Discount            0\n",
            "Total_Claim                 0\n",
            "Injury_Claim                0\n",
            "Property_Claim              0\n",
            "Vehicle_Claim               0\n",
            "dtype: int64\n"
          ]
        }
      ]
    },
    {
      "cell_type": "code",
      "source": [
        "# Step 7: Label Encoding for Categorical Features\n",
        "cat_cols = combined.select_dtypes(include='object').columns\n",
        "le = LabelEncoder()\n",
        "for col in cat_cols:\n",
        "    combined[col] = le.fit_transform(combined[col].astype(str))\n"
      ],
      "metadata": {
        "id": "RW7Lv9an8rX9"
      },
      "execution_count": 12,
      "outputs": []
    },
    {
      "cell_type": "code",
      "source": [
        "# Step 8: Split Data Back\n",
        "X_train = combined.iloc[:len(train_data), :]\n",
        "X_test = combined.iloc[len(train_data):, :]\n",
        "y_train = train_data['Fraud_Ind'].map({'Y': 1, 'N': 0})\n"
      ],
      "metadata": {
        "id": "Owq46unM8v8H"
      },
      "execution_count": 13,
      "outputs": []
    },
    {
      "cell_type": "code",
      "source": [
        "# Step 9: Scale Features\n",
        "scaler = StandardScaler()\n",
        "X_train_scaled = scaler.fit_transform(X_train)\n",
        "X_test_scaled = scaler.transform(X_test)\n",
        "\n",
        "# Split scaled training data into training and validation sets\n",
        "from sklearn.model_selection import train_test_split\n",
        "X_train_scaled, X_val_scaled, y_train, y_val = train_test_split(X_train_scaled, y_train, test_size=0.2, random_state=42, stratify=y_train)"
      ],
      "metadata": {
        "id": "-je6D_hW8z5F"
      },
      "execution_count": 31,
      "outputs": []
    },
    {
      "cell_type": "code",
      "source": [
        "from sklearn.ensemble import RandomForestClassifier, GradientBoostingClassifier, AdaBoostClassifier, ExtraTreesClassifier\n",
        "from sklearn.linear_model import LogisticRegression\n",
        "from sklearn.naive_bayes import GaussianNB\n",
        "from sklearn.neighbors import KNeighborsClassifier\n",
        "from sklearn.tree import DecisionTreeClassifier\n",
        "from sklearn.svm import SVC\n",
        "from sklearn.neural_network import MLPClassifier\n",
        "\n",
        "models={\n",
        "    \"Logistic Regression\": LogisticRegression(max_iter=1000, C=0.5, random_state=42),\n",
        "    \"Random Forest\": RandomForestClassifier(n_estimators=100, max_depth=12, min_samples_leaf=5, random_state=42, n_jobs=-1),\n",
        "    \"Gradient Boosting\": GradientBoostingClassifier(n_estimators=100, max_depth=5, learning_rate=0.1, random_state=42),\n",
        "    \"AdaBoost\": AdaBoostClassifier(n_estimators=100, random_state=42),\n",
        "    \"Naive Bayes\": GaussianNB(),\n",
        "    \"K-Nearest Neighbors\": KNeighborsClassifier(n_neighbors=7),\n",
        "    \"Decision Tree\": DecisionTreeClassifier(max_depth=10, min_samples_leaf=10, random_state=42),\n",
        "    \"Support Vector Machine\": SVC(probability=True, C=1.0, random_state=42),\n",
        "    \"Neural Network (MLP)\": MLPClassifier(hidden_layer_sizes=(64, 32), max_iter=500, alpha=0.01, random_state=42),\n",
        "    \"Extra Trees\": ExtraTreesClassifier(n_estimators=100, max_depth=12, random_state=42, n_jobs=-1)\n",
        "}"
      ],
      "metadata": {
        "id": "sdn4U7nU83Qj"
      },
      "execution_count": 32,
      "outputs": []
    },
    {
      "cell_type": "code",
      "source": [
        "results = []\n",
        "\n",
        "print(\"\\n--- Training and Evaluating Models on Validation Set ---\")\n",
        "\n",
        "for name, model in models.items():\n",
        "\n",
        "    # Train the model on the scaled training data\n",
        "\n",
        "    model.fit(X_train_scaled, y_train)\n",
        "\n",
        "\n",
        "\n",
        "    # Make predictions on the unseen validation data\n",
        "\n",
        "    y_pred = model.predict(X_val_scaled)\n",
        "\n",
        "    y_proba = model.predict_proba(X_val_scaled)[:,1]\n",
        "\n",
        "\n",
        "\n",
        "    # Calculate metrics\n",
        "\n",
        "    acc = accuracy_score(y_val, y_pred)\n",
        "\n",
        "    roc = roc_auc_score(y_val, y_proba)\n",
        "\n",
        "    results.append((name, acc, roc))\n",
        "\n",
        "\n",
        "\n",
        "    # Print results\n",
        "\n",
        "    print(f\"\\n--- {name} ---\")\n",
        "\n",
        "    print(f\"Validation Accuracy: {acc:.4f}\")\n",
        "\n",
        "    print(f\"Validation ROC AUC: {roc:.4f}\")\n",
        "\n",
        "    print(\"Classification Report:\\n\", classification_report(y_val, y_pred))"
      ],
      "metadata": {
        "colab": {
          "base_uri": "https://localhost:8080/"
        },
        "id": "MBGajyL1PSke",
        "outputId": "034a6a67-dfce-4e6a-bb6c-b7626032fed6"
      },
      "execution_count": 33,
      "outputs": [
        {
          "output_type": "stream",
          "name": "stdout",
          "text": [
            "\n",
            "--- Training and Evaluating Models on Validation Set ---\n",
            "\n",
            "--- Logistic Regression ---\n",
            "Validation Accuracy: 0.7998\n",
            "Validation ROC AUC: 0.7984\n",
            "Classification Report:\n",
            "               precision    recall  f1-score   support\n",
            "\n",
            "           0       0.83      0.93      0.87      8960\n",
            "           1       0.66      0.43      0.52      3040\n",
            "\n",
            "    accuracy                           0.80     12000\n",
            "   macro avg       0.74      0.68      0.70     12000\n",
            "weighted avg       0.79      0.80      0.78     12000\n",
            "\n",
            "\n",
            "--- Random Forest ---\n",
            "Validation Accuracy: 1.0000\n",
            "Validation ROC AUC: 1.0000\n",
            "Classification Report:\n",
            "               precision    recall  f1-score   support\n",
            "\n",
            "           0       1.00      1.00      1.00      8960\n",
            "           1       1.00      1.00      1.00      3040\n",
            "\n",
            "    accuracy                           1.00     12000\n",
            "   macro avg       1.00      1.00      1.00     12000\n",
            "weighted avg       1.00      1.00      1.00     12000\n",
            "\n",
            "\n",
            "--- Gradient Boosting ---\n",
            "Validation Accuracy: 1.0000\n",
            "Validation ROC AUC: 1.0000\n",
            "Classification Report:\n",
            "               precision    recall  f1-score   support\n",
            "\n",
            "           0       1.00      1.00      1.00      8960\n",
            "           1       1.00      1.00      1.00      3040\n",
            "\n",
            "    accuracy                           1.00     12000\n",
            "   macro avg       1.00      1.00      1.00     12000\n",
            "weighted avg       1.00      1.00      1.00     12000\n",
            "\n",
            "\n",
            "--- AdaBoost ---\n",
            "Validation Accuracy: 0.8713\n",
            "Validation ROC AUC: 0.9308\n",
            "Classification Report:\n",
            "               precision    recall  f1-score   support\n",
            "\n",
            "           0       0.90      0.93      0.92      8960\n",
            "           1       0.78      0.68      0.73      3040\n",
            "\n",
            "    accuracy                           0.87     12000\n",
            "   macro avg       0.84      0.81      0.82     12000\n",
            "weighted avg       0.87      0.87      0.87     12000\n",
            "\n",
            "\n",
            "--- Naive Bayes ---\n",
            "Validation Accuracy: 0.7737\n",
            "Validation ROC AUC: 0.7873\n",
            "Classification Report:\n",
            "               precision    recall  f1-score   support\n",
            "\n",
            "           0       0.79      0.95      0.86      8960\n",
            "           1       0.63      0.27      0.37      3040\n",
            "\n",
            "    accuracy                           0.77     12000\n",
            "   macro avg       0.71      0.61      0.62     12000\n",
            "weighted avg       0.75      0.77      0.74     12000\n",
            "\n",
            "\n",
            "--- K-Nearest Neighbors ---\n",
            "Validation Accuracy: 0.9966\n",
            "Validation ROC AUC: 0.9996\n",
            "Classification Report:\n",
            "               precision    recall  f1-score   support\n",
            "\n",
            "           0       1.00      1.00      1.00      8960\n",
            "           1       1.00      0.99      0.99      3040\n",
            "\n",
            "    accuracy                           1.00     12000\n",
            "   macro avg       1.00      0.99      1.00     12000\n",
            "weighted avg       1.00      1.00      1.00     12000\n",
            "\n",
            "\n",
            "--- Decision Tree ---\n",
            "Validation Accuracy: 0.9768\n",
            "Validation ROC AUC: 0.9922\n",
            "Classification Report:\n",
            "               precision    recall  f1-score   support\n",
            "\n",
            "           0       0.98      0.99      0.98      8960\n",
            "           1       0.96      0.94      0.95      3040\n",
            "\n",
            "    accuracy                           0.98     12000\n",
            "   macro avg       0.97      0.97      0.97     12000\n",
            "weighted avg       0.98      0.98      0.98     12000\n",
            "\n",
            "\n",
            "--- Support Vector Machine ---\n",
            "Validation Accuracy: 0.9968\n",
            "Validation ROC AUC: 0.9999\n",
            "Classification Report:\n",
            "               precision    recall  f1-score   support\n",
            "\n",
            "           0       1.00      1.00      1.00      8960\n",
            "           1       1.00      0.99      0.99      3040\n",
            "\n",
            "    accuracy                           1.00     12000\n",
            "   macro avg       1.00      0.99      1.00     12000\n",
            "weighted avg       1.00      1.00      1.00     12000\n",
            "\n",
            "\n",
            "--- Neural Network (MLP) ---\n",
            "Validation Accuracy: 1.0000\n",
            "Validation ROC AUC: 1.0000\n",
            "Classification Report:\n",
            "               precision    recall  f1-score   support\n",
            "\n",
            "           0       1.00      1.00      1.00      8960\n",
            "           1       1.00      1.00      1.00      3040\n",
            "\n",
            "    accuracy                           1.00     12000\n",
            "   macro avg       1.00      1.00      1.00     12000\n",
            "weighted avg       1.00      1.00      1.00     12000\n",
            "\n",
            "\n",
            "--- Extra Trees ---\n",
            "Validation Accuracy: 1.0000\n",
            "Validation ROC AUC: 1.0000\n",
            "Classification Report:\n",
            "               precision    recall  f1-score   support\n",
            "\n",
            "           0       1.00      1.00      1.00      8960\n",
            "           1       1.00      1.00      1.00      3040\n",
            "\n",
            "    accuracy                           1.00     12000\n",
            "   macro avg       1.00      1.00      1.00     12000\n",
            "weighted avg       1.00      1.00      1.00     12000\n",
            "\n"
          ]
        }
      ]
    },
    {
      "cell_type": "code",
      "source": [
        "# Step 11: Visualize Model Comparison\n",
        "result_df = pd.DataFrame(results, columns=[\"Model\", \"Accuracy\", \"ROC AUC\"])\n",
        "plt.figure(figsize=(12,6))\n",
        "sns.barplot(x=\"ROC AUC\", y=\"Model\", data=result_df.sort_values(by=\"ROC AUC\", ascending=False))\n",
        "plt.title(\"Model Comparison by ROC AUC\")\n",
        "plt.xlabel(\"ROC AUC Score\")\n",
        "plt.ylabel(\"Model\")\n",
        "plt.xlim(0.5, 1.0)\n",
        "plt.show()\n"
      ],
      "metadata": {
        "colab": {
          "base_uri": "https://localhost:8080/",
          "height": 564
        },
        "id": "dNy-pApa87Dk",
        "outputId": "1850a132-4b96-4439-8e0a-ae90c87817e4"
      },
      "execution_count": 34,
      "outputs": [
        {
          "output_type": "display_data",
          "data": {
            "text/plain": [
              "<Figure size 1200x600 with 1 Axes>"
            ],
            "image/png": "[encoded data removed]"
          },
          "metadata": {}
        }
      ]
    },
    {
      "cell_type": "code",
      "source": [
        "# Step 12: Select Best Model for Final Prediction (Random Forest)\n",
        "best_model = models[\"Random Forest\"]\n",
        "test_predictions = best_model.predict(X_test_scaled)\n"
      ],
      "metadata": {
        "id": "yx8bOyk0DrD_"
      },
      "execution_count": 35,
      "outputs": []
    },
    {
      "cell_type": "code",
      "source": [
        "# Step 13: Prepare Submission\n",
        "submission_template['Fraud_Ind'] = test_predictions\n",
        "submission_template['Fraud_Ind'] = submission_template['Fraud_Ind'].map({1: 'Y', 0: 'N'})\n",
        "submission_template.to_csv(\"Fraud_Detection_Submission.csv\", index=False)\n"
      ],
      "metadata": {
        "id": "gYHzza67Dt7v"
      },
      "execution_count": 36,
      "outputs": []
    },
    {
      "cell_type": "code",
      "source": [
        "# Step 14: Save Model and Scaler\n",
        "joblib.dump(best_model, \"fraud_detection_model.pkl\")\n",
        "joblib.dump(scaler, \"scaler.pkl\")\n"
      ],
      "metadata": {
        "colab": {
          "base_uri": "https://localhost:8080/"
        },
        "id": "BMHQsjZsDt4W",
        "outputId": "9d9d770c-859d-4f72-d2e0-e71c82860313"
      },
      "execution_count": 37,
      "outputs": [
        {
          "output_type": "execute_result",
          "data": {
            "text/plain": [
              "['scaler.pkl']"
            ]
          },
          "metadata": {},
          "execution_count": 37
        }
      ]
    },
    {
      "cell_type": "code",
      "source": [],
      "metadata": {
        "id": "6ph30EhGLVAO"
      },
      "execution_count": null,
      "outputs": []
    }
  ]
}